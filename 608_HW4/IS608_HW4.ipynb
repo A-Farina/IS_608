{
 "cells": [
  {
   "cell_type": "markdown",
   "metadata": {},
   "source": [
    "<h3>IS 608 HW 4</h3>\n",
    "   \n",
    "Using the dataset available [here](https://github.com/jlaurito/CUNY_IS608/tree/master/lecture4/data) complete the following:\n",
    "1. Create lists & graphs of the best and worst places to swim in the dataset.\n",
    "2. The testing of water quality can be sporadic. Which sites have been tested most regularly? Which ones have long gaps between tests? Pick out 5-10 sites and visually compare how regularly their water quality is tested.\n",
    "3. Is there a relationship between the amount of rain and water quality?  Show this relationship graphically. If you can, estimate the effect of rain on quality at different sites and create a visualization to compare them.\n",
    "\n",
    "Background: The United States Environmental Protection Agency (EPA) reports Entero counts as colonies (or cells) per 100 ml of water. The federal standard for unacceptable water quality is a single sample value of greater than 110 Enterococcus/100mL, or five or more samples with a geometric mean (a weighted average) greater than 30 Enterococcus/100mL."
   ]
  },
  {
   "cell_type": "code",
   "execution_count": 190,
   "metadata": {
    "collapsed": false
   },
   "outputs": [],
   "source": [
    "# Import modules for analysis and visualization\n",
    "import pandas as pd\n",
    "import seaborn as sns\n",
    "import matplotlib.pyplot as plt\n",
    "from scipy.stats.mstats import gmean\n",
    "import numpy as np\n",
    "from numpy import genfromtxt\n",
    "import os.path\n",
    "from datetime import datetime"
   ]
  },
  {
   "cell_type": "code",
   "execution_count": 198,
   "metadata": {
    "collapsed": false
   },
   "outputs": [
    {
     "data": {
      "text/plain": [
       "Site                 object\n",
       "Date                 object\n",
       "EnteroCount          object\n",
       "FourDayRainTotal    float64\n",
       "SampleCount           int64\n",
       "dtype: object"
      ]
     },
     "execution_count": 198,
     "metadata": {},
     "output_type": "execute_result"
    }
   ],
   "source": [
    "# Clean up and import (pandas)\n",
    "data_url = \"https://raw.githubusercontent.com/jlaurito/CUNY_IS608/master/lecture4/data/riverkeeper_data_2013.csv\"\n",
    "raw_data = pd.read_csv(data_url)\n",
    "# info like what you get with str() in R\n",
    "raw_data.dtypes "
   ]
  },
  {
   "cell_type": "code",
   "execution_count": 199,
   "metadata": {
    "collapsed": false
   },
   "outputs": [
    {
     "data": {
      "text/html": [
       "<div>\n",
       "<table border=\"1\" class=\"dataframe\">\n",
       "  <thead>\n",
       "    <tr style=\"text-align: right;\">\n",
       "      <th></th>\n",
       "      <th>Site</th>\n",
       "      <th>Date</th>\n",
       "      <th>EnteroCount</th>\n",
       "      <th>FourDayRainTotal</th>\n",
       "      <th>SampleCount</th>\n",
       "    </tr>\n",
       "  </thead>\n",
       "  <tbody>\n",
       "    <tr>\n",
       "      <th>0</th>\n",
       "      <td>Hudson above Mohawk River</td>\n",
       "      <td>10/16/2011</td>\n",
       "      <td>1733</td>\n",
       "      <td>1.5</td>\n",
       "      <td>35</td>\n",
       "    </tr>\n",
       "    <tr>\n",
       "      <th>1</th>\n",
       "      <td>Hudson above Mohawk River</td>\n",
       "      <td>10/21/2013</td>\n",
       "      <td>4</td>\n",
       "      <td>0.2</td>\n",
       "      <td>35</td>\n",
       "    </tr>\n",
       "    <tr>\n",
       "      <th>2</th>\n",
       "      <td>Hudson above Mohawk River</td>\n",
       "      <td>9/21/2013</td>\n",
       "      <td>20</td>\n",
       "      <td>0.0</td>\n",
       "      <td>35</td>\n",
       "    </tr>\n",
       "    <tr>\n",
       "      <th>3</th>\n",
       "      <td>Hudson above Mohawk River</td>\n",
       "      <td>8/19/2013</td>\n",
       "      <td>6</td>\n",
       "      <td>0.0</td>\n",
       "      <td>35</td>\n",
       "    </tr>\n",
       "    <tr>\n",
       "      <th>4</th>\n",
       "      <td>Hudson above Mohawk River</td>\n",
       "      <td>7/21/2013</td>\n",
       "      <td>31</td>\n",
       "      <td>0.0</td>\n",
       "      <td>35</td>\n",
       "    </tr>\n",
       "    <tr>\n",
       "      <th>5</th>\n",
       "      <td>Hudson above Mohawk River</td>\n",
       "      <td>6/4/2013</td>\n",
       "      <td>238</td>\n",
       "      <td>1.2</td>\n",
       "      <td>35</td>\n",
       "    </tr>\n",
       "    <tr>\n",
       "      <th>6</th>\n",
       "      <td>Hudson above Mohawk River</td>\n",
       "      <td>10/15/2012</td>\n",
       "      <td>23</td>\n",
       "      <td>1.4</td>\n",
       "      <td>35</td>\n",
       "    </tr>\n",
       "    <tr>\n",
       "      <th>7</th>\n",
       "      <td>Hudson above Mohawk River</td>\n",
       "      <td>9/15/2012</td>\n",
       "      <td>11</td>\n",
       "      <td>0.1</td>\n",
       "      <td>35</td>\n",
       "    </tr>\n",
       "    <tr>\n",
       "      <th>8</th>\n",
       "      <td>Hudson above Mohawk River</td>\n",
       "      <td>8/18/2012</td>\n",
       "      <td>15</td>\n",
       "      <td>0.3</td>\n",
       "      <td>35</td>\n",
       "    </tr>\n",
       "    <tr>\n",
       "      <th>9</th>\n",
       "      <td>Hudson above Mohawk River</td>\n",
       "      <td>7/21/2012</td>\n",
       "      <td>6</td>\n",
       "      <td>0.2</td>\n",
       "      <td>35</td>\n",
       "    </tr>\n",
       "    <tr>\n",
       "      <th>10</th>\n",
       "      <td>Hudson above Mohawk River</td>\n",
       "      <td>6/16/2012</td>\n",
       "      <td>10</td>\n",
       "      <td>0.2</td>\n",
       "      <td>35</td>\n",
       "    </tr>\n",
       "    <tr>\n",
       "      <th>11</th>\n",
       "      <td>Hudson above Mohawk River</td>\n",
       "      <td>5/20/2012</td>\n",
       "      <td>11</td>\n",
       "      <td>0.0</td>\n",
       "      <td>35</td>\n",
       "    </tr>\n",
       "    <tr>\n",
       "      <th>12</th>\n",
       "      <td>Hudson above Mohawk River</td>\n",
       "      <td>6/24/2013</td>\n",
       "      <td>30</td>\n",
       "      <td>1.4</td>\n",
       "      <td>35</td>\n",
       "    </tr>\n",
       "    <tr>\n",
       "      <th>13</th>\n",
       "      <td>Hudson above Mohawk River</td>\n",
       "      <td>9/19/2011</td>\n",
       "      <td>11</td>\n",
       "      <td>0.1</td>\n",
       "      <td>35</td>\n",
       "    </tr>\n",
       "    <tr>\n",
       "      <th>14</th>\n",
       "      <td>Hudson above Mohawk River</td>\n",
       "      <td>8/21/2011</td>\n",
       "      <td>231</td>\n",
       "      <td>0.4</td>\n",
       "      <td>35</td>\n",
       "    </tr>\n",
       "    <tr>\n",
       "      <th>15</th>\n",
       "      <td>Hudson above Mohawk River</td>\n",
       "      <td>7/14/2011</td>\n",
       "      <td>11</td>\n",
       "      <td>0.3</td>\n",
       "      <td>35</td>\n",
       "    </tr>\n",
       "    <tr>\n",
       "      <th>16</th>\n",
       "      <td>Hudson above Mohawk River</td>\n",
       "      <td>7/2/2011</td>\n",
       "      <td>11</td>\n",
       "      <td>2.1</td>\n",
       "      <td>35</td>\n",
       "    </tr>\n",
       "    <tr>\n",
       "      <th>17</th>\n",
       "      <td>Hudson above Mohawk River</td>\n",
       "      <td>5/19/2011</td>\n",
       "      <td>91</td>\n",
       "      <td>1.6</td>\n",
       "      <td>35</td>\n",
       "    </tr>\n",
       "    <tr>\n",
       "      <th>18</th>\n",
       "      <td>Hudson above Mohawk River</td>\n",
       "      <td>10/16/2010</td>\n",
       "      <td>&gt;2420</td>\n",
       "      <td>1.3</td>\n",
       "      <td>35</td>\n",
       "    </tr>\n",
       "    <tr>\n",
       "      <th>19</th>\n",
       "      <td>Hudson above Mohawk River</td>\n",
       "      <td>9/14/2010</td>\n",
       "      <td>15</td>\n",
       "      <td>0.0</td>\n",
       "      <td>35</td>\n",
       "    </tr>\n",
       "    <tr>\n",
       "      <th>20</th>\n",
       "      <td>Hudson above Mohawk River</td>\n",
       "      <td>8/21/2010</td>\n",
       "      <td>25</td>\n",
       "      <td>0.2</td>\n",
       "      <td>35</td>\n",
       "    </tr>\n",
       "    <tr>\n",
       "      <th>21</th>\n",
       "      <td>Hudson above Mohawk River</td>\n",
       "      <td>7/19/2010</td>\n",
       "      <td>31</td>\n",
       "      <td>0.7</td>\n",
       "      <td>35</td>\n",
       "    </tr>\n",
       "    <tr>\n",
       "      <th>22</th>\n",
       "      <td>Hudson above Mohawk River</td>\n",
       "      <td>5/22/2008</td>\n",
       "      <td>12</td>\n",
       "      <td>0.2</td>\n",
       "      <td>35</td>\n",
       "    </tr>\n",
       "    <tr>\n",
       "      <th>23</th>\n",
       "      <td>Hudson above Mohawk River</td>\n",
       "      <td>5/25/2010</td>\n",
       "      <td>&lt;1</td>\n",
       "      <td>0.0</td>\n",
       "      <td>35</td>\n",
       "    </tr>\n",
       "    <tr>\n",
       "      <th>24</th>\n",
       "      <td>Hudson above Mohawk River</td>\n",
       "      <td>10/23/2009</td>\n",
       "      <td>4</td>\n",
       "      <td>0.0</td>\n",
       "      <td>35</td>\n",
       "    </tr>\n",
       "  </tbody>\n",
       "</table>\n",
       "</div>"
      ],
      "text/plain": [
       "                         Site        Date EnteroCount  FourDayRainTotal  \\\n",
       "0   Hudson above Mohawk River  10/16/2011        1733               1.5   \n",
       "1   Hudson above Mohawk River  10/21/2013           4               0.2   \n",
       "2   Hudson above Mohawk River   9/21/2013          20               0.0   \n",
       "3   Hudson above Mohawk River   8/19/2013           6               0.0   \n",
       "4   Hudson above Mohawk River   7/21/2013          31               0.0   \n",
       "5   Hudson above Mohawk River    6/4/2013         238               1.2   \n",
       "6   Hudson above Mohawk River  10/15/2012          23               1.4   \n",
       "7   Hudson above Mohawk River   9/15/2012          11               0.1   \n",
       "8   Hudson above Mohawk River   8/18/2012          15               0.3   \n",
       "9   Hudson above Mohawk River   7/21/2012           6               0.2   \n",
       "10  Hudson above Mohawk River   6/16/2012          10               0.2   \n",
       "11  Hudson above Mohawk River   5/20/2012          11               0.0   \n",
       "12  Hudson above Mohawk River   6/24/2013          30               1.4   \n",
       "13  Hudson above Mohawk River   9/19/2011          11               0.1   \n",
       "14  Hudson above Mohawk River   8/21/2011         231               0.4   \n",
       "15  Hudson above Mohawk River   7/14/2011          11               0.3   \n",
       "16  Hudson above Mohawk River    7/2/2011          11               2.1   \n",
       "17  Hudson above Mohawk River   5/19/2011          91               1.6   \n",
       "18  Hudson above Mohawk River  10/16/2010       >2420               1.3   \n",
       "19  Hudson above Mohawk River   9/14/2010          15               0.0   \n",
       "20  Hudson above Mohawk River   8/21/2010          25               0.2   \n",
       "21  Hudson above Mohawk River   7/19/2010          31               0.7   \n",
       "22  Hudson above Mohawk River   5/22/2008          12               0.2   \n",
       "23  Hudson above Mohawk River   5/25/2010          <1               0.0   \n",
       "24  Hudson above Mohawk River  10/23/2009           4               0.0   \n",
       "\n",
       "    SampleCount  \n",
       "0            35  \n",
       "1            35  \n",
       "2            35  \n",
       "3            35  \n",
       "4            35  \n",
       "5            35  \n",
       "6            35  \n",
       "7            35  \n",
       "8            35  \n",
       "9            35  \n",
       "10           35  \n",
       "11           35  \n",
       "12           35  \n",
       "13           35  \n",
       "14           35  \n",
       "15           35  \n",
       "16           35  \n",
       "17           35  \n",
       "18           35  \n",
       "19           35  \n",
       "20           35  \n",
       "21           35  \n",
       "22           35  \n",
       "23           35  \n",
       "24           35  "
      ]
     },
     "execution_count": 199,
     "metadata": {},
     "output_type": "execute_result"
    }
   ],
   "source": [
    "# look at the first 25 rows\n",
    "# remember the first row is the colnames\n",
    "raw_data.head(25)"
   ]
  },
  {
   "cell_type": "code",
   "execution_count": 200,
   "metadata": {
    "collapsed": false
   },
   "outputs": [],
   "source": [
    "# Adjust the data types to make the data easier to work with\n",
    "raw_data[\"Site\"] = raw_data[\"Site\"].astype('category') # like facets\n",
    "raw_data[\"Date\"] = pd.to_datetime(raw_data[\"Date\"]) # dates as dates\n",
    "# We need to remove the greater than and less than symbols and treat \"EnteroCount\" as an integer -- 'int64'\n",
    "raw_data[\"EnteroCount\"] = raw_data[\"EnteroCount\"].str.lstrip('><')\n",
    "raw_data[\"EnteroCount\"] = raw_data[\"EnteroCount\"].astype('int64')"
   ]
  },
  {
   "cell_type": "code",
   "execution_count": 201,
   "metadata": {
    "collapsed": false
   },
   "outputs": [
    {
     "data": {
      "text/plain": [
       "Site                      category\n",
       "Date                datetime64[ns]\n",
       "EnteroCount                  int64\n",
       "FourDayRainTotal           float64\n",
       "SampleCount                  int64\n",
       "dtype: object"
      ]
     },
     "execution_count": 201,
     "metadata": {},
     "output_type": "execute_result"
    }
   ],
   "source": [
    "# Check to make sure the changes are correct\n",
    "raw_data.dtypes "
   ]
  },
  {
   "cell_type": "code",
   "execution_count": 202,
   "metadata": {
    "collapsed": false
   },
   "outputs": [
    {
     "data": {
      "text/html": [
       "<div>\n",
       "<table border=\"1\" class=\"dataframe\">\n",
       "  <thead>\n",
       "    <tr style=\"text-align: right;\">\n",
       "      <th></th>\n",
       "      <th>Site</th>\n",
       "      <th>Date</th>\n",
       "      <th>EnteroCount</th>\n",
       "      <th>FourDayRainTotal</th>\n",
       "      <th>SampleCount</th>\n",
       "    </tr>\n",
       "  </thead>\n",
       "  <tbody>\n",
       "    <tr>\n",
       "      <th>0</th>\n",
       "      <td>Hudson above Mohawk River</td>\n",
       "      <td>2011-10-16</td>\n",
       "      <td>1733</td>\n",
       "      <td>1.5</td>\n",
       "      <td>35</td>\n",
       "    </tr>\n",
       "    <tr>\n",
       "      <th>1</th>\n",
       "      <td>Hudson above Mohawk River</td>\n",
       "      <td>2013-10-21</td>\n",
       "      <td>4</td>\n",
       "      <td>0.2</td>\n",
       "      <td>35</td>\n",
       "    </tr>\n",
       "    <tr>\n",
       "      <th>2</th>\n",
       "      <td>Hudson above Mohawk River</td>\n",
       "      <td>2013-09-21</td>\n",
       "      <td>20</td>\n",
       "      <td>0.0</td>\n",
       "      <td>35</td>\n",
       "    </tr>\n",
       "    <tr>\n",
       "      <th>3</th>\n",
       "      <td>Hudson above Mohawk River</td>\n",
       "      <td>2013-08-19</td>\n",
       "      <td>6</td>\n",
       "      <td>0.0</td>\n",
       "      <td>35</td>\n",
       "    </tr>\n",
       "    <tr>\n",
       "      <th>4</th>\n",
       "      <td>Hudson above Mohawk River</td>\n",
       "      <td>2013-07-21</td>\n",
       "      <td>31</td>\n",
       "      <td>0.0</td>\n",
       "      <td>35</td>\n",
       "    </tr>\n",
       "    <tr>\n",
       "      <th>5</th>\n",
       "      <td>Hudson above Mohawk River</td>\n",
       "      <td>2013-06-04</td>\n",
       "      <td>238</td>\n",
       "      <td>1.2</td>\n",
       "      <td>35</td>\n",
       "    </tr>\n",
       "    <tr>\n",
       "      <th>6</th>\n",
       "      <td>Hudson above Mohawk River</td>\n",
       "      <td>2012-10-15</td>\n",
       "      <td>23</td>\n",
       "      <td>1.4</td>\n",
       "      <td>35</td>\n",
       "    </tr>\n",
       "    <tr>\n",
       "      <th>7</th>\n",
       "      <td>Hudson above Mohawk River</td>\n",
       "      <td>2012-09-15</td>\n",
       "      <td>11</td>\n",
       "      <td>0.1</td>\n",
       "      <td>35</td>\n",
       "    </tr>\n",
       "    <tr>\n",
       "      <th>8</th>\n",
       "      <td>Hudson above Mohawk River</td>\n",
       "      <td>2012-08-18</td>\n",
       "      <td>15</td>\n",
       "      <td>0.3</td>\n",
       "      <td>35</td>\n",
       "    </tr>\n",
       "    <tr>\n",
       "      <th>9</th>\n",
       "      <td>Hudson above Mohawk River</td>\n",
       "      <td>2012-07-21</td>\n",
       "      <td>6</td>\n",
       "      <td>0.2</td>\n",
       "      <td>35</td>\n",
       "    </tr>\n",
       "    <tr>\n",
       "      <th>10</th>\n",
       "      <td>Hudson above Mohawk River</td>\n",
       "      <td>2012-06-16</td>\n",
       "      <td>10</td>\n",
       "      <td>0.2</td>\n",
       "      <td>35</td>\n",
       "    </tr>\n",
       "    <tr>\n",
       "      <th>11</th>\n",
       "      <td>Hudson above Mohawk River</td>\n",
       "      <td>2012-05-20</td>\n",
       "      <td>11</td>\n",
       "      <td>0.0</td>\n",
       "      <td>35</td>\n",
       "    </tr>\n",
       "    <tr>\n",
       "      <th>12</th>\n",
       "      <td>Hudson above Mohawk River</td>\n",
       "      <td>2013-06-24</td>\n",
       "      <td>30</td>\n",
       "      <td>1.4</td>\n",
       "      <td>35</td>\n",
       "    </tr>\n",
       "    <tr>\n",
       "      <th>13</th>\n",
       "      <td>Hudson above Mohawk River</td>\n",
       "      <td>2011-09-19</td>\n",
       "      <td>11</td>\n",
       "      <td>0.1</td>\n",
       "      <td>35</td>\n",
       "    </tr>\n",
       "    <tr>\n",
       "      <th>14</th>\n",
       "      <td>Hudson above Mohawk River</td>\n",
       "      <td>2011-08-21</td>\n",
       "      <td>231</td>\n",
       "      <td>0.4</td>\n",
       "      <td>35</td>\n",
       "    </tr>\n",
       "    <tr>\n",
       "      <th>15</th>\n",
       "      <td>Hudson above Mohawk River</td>\n",
       "      <td>2011-07-14</td>\n",
       "      <td>11</td>\n",
       "      <td>0.3</td>\n",
       "      <td>35</td>\n",
       "    </tr>\n",
       "    <tr>\n",
       "      <th>16</th>\n",
       "      <td>Hudson above Mohawk River</td>\n",
       "      <td>2011-07-02</td>\n",
       "      <td>11</td>\n",
       "      <td>2.1</td>\n",
       "      <td>35</td>\n",
       "    </tr>\n",
       "    <tr>\n",
       "      <th>17</th>\n",
       "      <td>Hudson above Mohawk River</td>\n",
       "      <td>2011-05-19</td>\n",
       "      <td>91</td>\n",
       "      <td>1.6</td>\n",
       "      <td>35</td>\n",
       "    </tr>\n",
       "    <tr>\n",
       "      <th>18</th>\n",
       "      <td>Hudson above Mohawk River</td>\n",
       "      <td>2010-10-16</td>\n",
       "      <td>2420</td>\n",
       "      <td>1.3</td>\n",
       "      <td>35</td>\n",
       "    </tr>\n",
       "    <tr>\n",
       "      <th>19</th>\n",
       "      <td>Hudson above Mohawk River</td>\n",
       "      <td>2010-09-14</td>\n",
       "      <td>15</td>\n",
       "      <td>0.0</td>\n",
       "      <td>35</td>\n",
       "    </tr>\n",
       "  </tbody>\n",
       "</table>\n",
       "</div>"
      ],
      "text/plain": [
       "                         Site       Date  EnteroCount  FourDayRainTotal  \\\n",
       "0   Hudson above Mohawk River 2011-10-16         1733               1.5   \n",
       "1   Hudson above Mohawk River 2013-10-21            4               0.2   \n",
       "2   Hudson above Mohawk River 2013-09-21           20               0.0   \n",
       "3   Hudson above Mohawk River 2013-08-19            6               0.0   \n",
       "4   Hudson above Mohawk River 2013-07-21           31               0.0   \n",
       "5   Hudson above Mohawk River 2013-06-04          238               1.2   \n",
       "6   Hudson above Mohawk River 2012-10-15           23               1.4   \n",
       "7   Hudson above Mohawk River 2012-09-15           11               0.1   \n",
       "8   Hudson above Mohawk River 2012-08-18           15               0.3   \n",
       "9   Hudson above Mohawk River 2012-07-21            6               0.2   \n",
       "10  Hudson above Mohawk River 2012-06-16           10               0.2   \n",
       "11  Hudson above Mohawk River 2012-05-20           11               0.0   \n",
       "12  Hudson above Mohawk River 2013-06-24           30               1.4   \n",
       "13  Hudson above Mohawk River 2011-09-19           11               0.1   \n",
       "14  Hudson above Mohawk River 2011-08-21          231               0.4   \n",
       "15  Hudson above Mohawk River 2011-07-14           11               0.3   \n",
       "16  Hudson above Mohawk River 2011-07-02           11               2.1   \n",
       "17  Hudson above Mohawk River 2011-05-19           91               1.6   \n",
       "18  Hudson above Mohawk River 2010-10-16         2420               1.3   \n",
       "19  Hudson above Mohawk River 2010-09-14           15               0.0   \n",
       "\n",
       "    SampleCount  \n",
       "0            35  \n",
       "1            35  \n",
       "2            35  \n",
       "3            35  \n",
       "4            35  \n",
       "5            35  \n",
       "6            35  \n",
       "7            35  \n",
       "8            35  \n",
       "9            35  \n",
       "10           35  \n",
       "11           35  \n",
       "12           35  \n",
       "13           35  \n",
       "14           35  \n",
       "15           35  \n",
       "16           35  \n",
       "17           35  \n",
       "18           35  \n",
       "19           35  "
      ]
     },
     "execution_count": 202,
     "metadata": {},
     "output_type": "execute_result"
    }
   ],
   "source": [
    "raw_data.head(20) # there are no more < or > symbols"
   ]
  },
  {
   "cell_type": "markdown",
   "metadata": {},
   "source": [
    "### Create lists & graphs of the best and worst places to swim in the dataset."
   ]
  },
  {
   "cell_type": "code",
   "execution_count": 7,
   "metadata": {
    "collapsed": false
   },
   "outputs": [
    {
     "data": {
      "text/html": [
       "<div>\n",
       "<table border=\"1\" class=\"dataframe\">\n",
       "  <thead>\n",
       "    <tr style=\"text-align: right;\">\n",
       "      <th></th>\n",
       "      <th>Site</th>\n",
       "      <th>Date</th>\n",
       "      <th>EnteroCount</th>\n",
       "      <th>FourDayRainTotal</th>\n",
       "      <th>SampleCount</th>\n",
       "      <th>swim</th>\n",
       "    </tr>\n",
       "  </thead>\n",
       "  <tbody>\n",
       "    <tr>\n",
       "      <th>0</th>\n",
       "      <td>Hudson above Mohawk River</td>\n",
       "      <td>2011-10-16</td>\n",
       "      <td>1733</td>\n",
       "      <td>1.5</td>\n",
       "      <td>35</td>\n",
       "      <td>unacceptable</td>\n",
       "    </tr>\n",
       "    <tr>\n",
       "      <th>1</th>\n",
       "      <td>Hudson above Mohawk River</td>\n",
       "      <td>2013-10-21</td>\n",
       "      <td>4</td>\n",
       "      <td>0.2</td>\n",
       "      <td>35</td>\n",
       "      <td>unacceptable</td>\n",
       "    </tr>\n",
       "    <tr>\n",
       "      <th>2</th>\n",
       "      <td>Hudson above Mohawk River</td>\n",
       "      <td>2013-09-21</td>\n",
       "      <td>20</td>\n",
       "      <td>0.0</td>\n",
       "      <td>35</td>\n",
       "      <td>unacceptable</td>\n",
       "    </tr>\n",
       "    <tr>\n",
       "      <th>3</th>\n",
       "      <td>Hudson above Mohawk River</td>\n",
       "      <td>2013-08-19</td>\n",
       "      <td>6</td>\n",
       "      <td>0.0</td>\n",
       "      <td>35</td>\n",
       "      <td>unacceptable</td>\n",
       "    </tr>\n",
       "    <tr>\n",
       "      <th>4</th>\n",
       "      <td>Hudson above Mohawk River</td>\n",
       "      <td>2013-07-21</td>\n",
       "      <td>31</td>\n",
       "      <td>0.0</td>\n",
       "      <td>35</td>\n",
       "      <td>unacceptable</td>\n",
       "    </tr>\n",
       "    <tr>\n",
       "      <th>5</th>\n",
       "      <td>Hudson above Mohawk River</td>\n",
       "      <td>2013-06-04</td>\n",
       "      <td>238</td>\n",
       "      <td>1.2</td>\n",
       "      <td>35</td>\n",
       "      <td>unacceptable</td>\n",
       "    </tr>\n",
       "    <tr>\n",
       "      <th>6</th>\n",
       "      <td>Hudson above Mohawk River</td>\n",
       "      <td>2012-10-15</td>\n",
       "      <td>23</td>\n",
       "      <td>1.4</td>\n",
       "      <td>35</td>\n",
       "      <td>unacceptable</td>\n",
       "    </tr>\n",
       "    <tr>\n",
       "      <th>7</th>\n",
       "      <td>Hudson above Mohawk River</td>\n",
       "      <td>2012-09-15</td>\n",
       "      <td>11</td>\n",
       "      <td>0.1</td>\n",
       "      <td>35</td>\n",
       "      <td>unacceptable</td>\n",
       "    </tr>\n",
       "    <tr>\n",
       "      <th>8</th>\n",
       "      <td>Hudson above Mohawk River</td>\n",
       "      <td>2012-08-18</td>\n",
       "      <td>15</td>\n",
       "      <td>0.3</td>\n",
       "      <td>35</td>\n",
       "      <td>unacceptable</td>\n",
       "    </tr>\n",
       "    <tr>\n",
       "      <th>9</th>\n",
       "      <td>Hudson above Mohawk River</td>\n",
       "      <td>2012-07-21</td>\n",
       "      <td>6</td>\n",
       "      <td>0.2</td>\n",
       "      <td>35</td>\n",
       "      <td>unacceptable</td>\n",
       "    </tr>\n",
       "  </tbody>\n",
       "</table>\n",
       "</div>"
      ],
      "text/plain": [
       "                        Site       Date  EnteroCount  FourDayRainTotal  \\\n",
       "0  Hudson above Mohawk River 2011-10-16         1733               1.5   \n",
       "1  Hudson above Mohawk River 2013-10-21            4               0.2   \n",
       "2  Hudson above Mohawk River 2013-09-21           20               0.0   \n",
       "3  Hudson above Mohawk River 2013-08-19            6               0.0   \n",
       "4  Hudson above Mohawk River 2013-07-21           31               0.0   \n",
       "5  Hudson above Mohawk River 2013-06-04          238               1.2   \n",
       "6  Hudson above Mohawk River 2012-10-15           23               1.4   \n",
       "7  Hudson above Mohawk River 2012-09-15           11               0.1   \n",
       "8  Hudson above Mohawk River 2012-08-18           15               0.3   \n",
       "9  Hudson above Mohawk River 2012-07-21            6               0.2   \n",
       "\n",
       "   SampleCount          swim  \n",
       "0           35  unacceptable  \n",
       "1           35  unacceptable  \n",
       "2           35  unacceptable  \n",
       "3           35  unacceptable  \n",
       "4           35  unacceptable  \n",
       "5           35  unacceptable  \n",
       "6           35  unacceptable  \n",
       "7           35  unacceptable  \n",
       "8           35  unacceptable  \n",
       "9           35  unacceptable  "
      ]
     },
     "execution_count": 7,
     "metadata": {},
     "output_type": "execute_result"
    }
   ],
   "source": [
    "# Create a column showing whether or not the water quality is acceptable in a given place\n",
    "# unnaceptable: \n",
    "# 110 Enterococcus/100mL OR\n",
    "# five or more samples with a geometric mean (a weighted average) > 30 Enterococcus/100mL.\n",
    "\n",
    "# The prompt is really vague in defining the geometric mean condition - I used gmean()\n",
    "\n",
    "# When calculated, geometric mean by site of highest 5 samples and single sample >= 110\n",
    "# shows nearly all sites would have water with unacceptable water quality at some point\n",
    "\n",
    "raw_data['swim'] = np.where(\n",
    "    (raw_data.groupby('Site').EnteroCount.transform(max) > 110) \n",
    "    | (raw_data.groupby('Site').EnteroCount.transform(lambda group: gmean(group.nlargest(5))) > 30), \n",
    "    'unacceptable', 'acceptable')\n",
    "raw_data.head(10)"
   ]
  },
  {
   "cell_type": "code",
   "execution_count": 18,
   "metadata": {
    "collapsed": false
   },
   "outputs": [],
   "source": [
    "# As a result of above criteria not being very useful, I instead grouped the data by site and \n",
    "# calculated the mean entero_count for each site\n",
    "\n",
    "mean_entero = raw_data.groupby(['Site'])['EnteroCount'].mean().sort_values()"
   ]
  },
  {
   "cell_type": "code",
   "execution_count": 19,
   "metadata": {
    "collapsed": false
   },
   "outputs": [
    {
     "name": "stdout",
     "output_type": "stream",
     "text": [
      "Ten best places to swim\n",
      "+++++++++++++++++++++++\n"
     ]
    },
    {
     "data": {
      "text/plain": [
       "Site\n",
       "Poughkeepsie Drinking Water Intake     8.342105\n",
       "Croton Point Beach                    15.458333\n",
       "Stony Point mid-channel               17.340909\n",
       "Little Stony Point                    17.526316\n",
       "Poughkeepsie Launch Ramp              17.675676\n",
       "Haverstraw Bay mid-channel            18.708333\n",
       "TZ Bridge mid-channel                 21.438596\n",
       "Cold Spring Harbor                    22.542857\n",
       "Yonkers mid-channel                   25.019231\n",
       "Irvington Beach                       28.805556\n",
       "Name: EnteroCount, dtype: float64"
      ]
     },
     "execution_count": 19,
     "metadata": {},
     "output_type": "execute_result"
    }
   ],
   "source": [
    "# Top ten best places to swim\n",
    "print \"Ten best places to swim\"\n",
    "print \"+++++++++++++++++++++++\"\n",
    "mean_entero.head(10)"
   ]
  },
  {
   "cell_type": "code",
   "execution_count": 20,
   "metadata": {
    "collapsed": false
   },
   "outputs": [
    {
     "name": "stdout",
     "output_type": "stream",
     "text": [
      "Ten worst places to swim\n",
      "++++++++++++++++++++++++\n"
     ]
    },
    {
     "data": {
      "text/plain": [
       "Site\n",
       "Gowanus Canal                              4206.837838\n",
       "Newtown Creek- Metropolitan Ave. Bridge    2953.684211\n",
       "Tarrytown Marina                           2205.666667\n",
       "Saw Mill River                             1455.760000\n",
       "Upper Sparkill Creek                       1296.072727\n",
       "Newtown Creek- Dutch Kills                 1205.087719\n",
       "Kingsland Pt. Park- Pocantico River         907.857143\n",
       "Orangetown STP Outfall                      854.192982\n",
       "Mohawk River at Waterford                   621.057143\n",
       "Piermont Pier                               482.165775\n",
       "Name: EnteroCount, dtype: float64"
      ]
     },
     "execution_count": 20,
     "metadata": {},
     "output_type": "execute_result"
    }
   ],
   "source": [
    "# Ten worst places to swim\n",
    "print \"Ten worst places to swim\"\n",
    "print \"++++++++++++++++++++++++\"\n",
    "mean_entero.tail(10).sort_values(ascending=False)"
   ]
  },
  {
   "cell_type": "code",
   "execution_count": 21,
   "metadata": {
    "collapsed": true
   },
   "outputs": [],
   "source": [
    "# write the results to a csv and read in for more flexible use (now and later)\n",
    "mean_entero.to_csv( 'mean_entero.csv' )"
   ]
  },
  {
   "cell_type": "code",
   "execution_count": 22,
   "metadata": {
    "collapsed": false
   },
   "outputs": [
    {
     "data": {
      "text/html": [
       "<div>\n",
       "<table border=\"1\" class=\"dataframe\">\n",
       "  <thead>\n",
       "    <tr style=\"text-align: right;\">\n",
       "      <th></th>\n",
       "      <th>Site</th>\n",
       "      <th>Average_Entero_Count</th>\n",
       "    </tr>\n",
       "  </thead>\n",
       "  <tbody>\n",
       "    <tr>\n",
       "      <th>0</th>\n",
       "      <td>Croton Point Beach</td>\n",
       "      <td>15.458333</td>\n",
       "    </tr>\n",
       "    <tr>\n",
       "      <th>1</th>\n",
       "      <td>Stony Point mid-channel</td>\n",
       "      <td>17.340909</td>\n",
       "    </tr>\n",
       "    <tr>\n",
       "      <th>2</th>\n",
       "      <td>Little Stony Point</td>\n",
       "      <td>17.526316</td>\n",
       "    </tr>\n",
       "    <tr>\n",
       "      <th>3</th>\n",
       "      <td>Poughkeepsie Launch Ramp</td>\n",
       "      <td>17.675676</td>\n",
       "    </tr>\n",
       "    <tr>\n",
       "      <th>4</th>\n",
       "      <td>Haverstraw Bay mid-channel</td>\n",
       "      <td>18.708333</td>\n",
       "    </tr>\n",
       "  </tbody>\n",
       "</table>\n",
       "</div>"
      ],
      "text/plain": [
       "                         Site  Average_Entero_Count\n",
       "0          Croton Point Beach             15.458333\n",
       "1     Stony Point mid-channel             17.340909\n",
       "2          Little Stony Point             17.526316\n",
       "3    Poughkeepsie Launch Ramp             17.675676\n",
       "4  Haverstraw Bay mid-channel             18.708333"
      ]
     },
     "execution_count": 22,
     "metadata": {},
     "output_type": "execute_result"
    }
   ],
   "source": [
    "mean_entero1 = pd.read_csv('mean_entero.csv')\n",
    "mean_entero1.columns = ['Site','Average_Entero_Count']\n",
    "mean_entero1.head() #make sure it looks right"
   ]
  },
  {
   "cell_type": "code",
   "execution_count": 164,
   "metadata": {
    "collapsed": false
   },
   "outputs": [
    {
     "data": {
      "image/png": "[encoded data removed]",
      "text/plain": [
       "<matplotlib.figure.Figure at 0x10ea71dd0>"
      ]
     },
     "metadata": {},
     "output_type": "display_data"
    }
   ],
   "source": [
    "# Plot the results\n",
    "%matplotlib inline\n",
    "sns.set_style(\"whitegrid\")\n",
    "sns.set_style(\"ticks\")\n",
    "plt.figure(figsize=(10, 20))\n",
    "ax = sns.barplot(x =\"Average_Entero_Count\", y=\"Site\", data=mean_entero1, palette=\"Blues_d\")\n",
    "ax.set(xlabel='Average Entero Count', ylabel='Site')\n",
    "ax.set_title('Waterways ranked by Average Entero Count')\n",
    "sns.despine()\n",
    "\n",
    "# Don't go swimming in the Gowanus Canal"
   ]
  },
  {
   "cell_type": "markdown",
   "metadata": {},
   "source": [
    "### The testing of water quality can be sporadic. Which sites have been tested most regularly? Which ones have long gaps between tests? Pick out 5-10 sites and visually compare how regularly their water quality is tested."
   ]
  },
  {
   "cell_type": "code",
   "execution_count": 68,
   "metadata": {
    "collapsed": false
   },
   "outputs": [
    {
     "name": "stdout",
     "output_type": "stream",
     "text": [
      "Most recently tested site dates\n",
      "++++++++++++++++++++++++\n",
      "Site\n",
      "Gay's Point mid-channel        2013-10-21\n",
      "Athens                         2013-10-21\n",
      "Hudson River above Troy Lock   2013-10-21\n",
      "Hudson above Mohawk River      2013-10-21\n",
      "Island Creek/Normans Kill      2013-10-21\n",
      "Mohawk River at Waterford      2013-10-21\n",
      "Dunn Memorial Bridge- Albany   2013-10-21\n",
      "Castleton                      2013-10-21\n",
      "Bethlehem Launch Ramp          2013-10-21\n",
      "Coeymans Landing               2013-10-21\n",
      "Hudson Landing Ramp            2013-10-21\n",
      "Albany Rowing Dock             2013-10-21\n",
      "Congress St. Bridge- Troy      2013-10-21\n",
      "Coxsackie Waterfront Park      2013-10-21\n",
      "Esopus Creek West              2013-10-20\n",
      "Name: Date, dtype: datetime64[ns]\n",
      "\n",
      "\n",
      "Most frequently tested sites\n",
      "++++++++++++++++++++++++\n",
      "Site\n",
      "Piermont Pier                              186\n",
      "Upper Sparkill Creek                       164\n",
      "125th St. Pier                              65\n",
      "Nyack Launch Ramp                           60\n",
      "TZ Bridge mid-channel                       56\n",
      "Newtown Creek- Dutch Kills                  56\n",
      "Newtown Creek- Metropolitan Ave. Bridge     56\n",
      "Orangetown STP Outfall                      56\n",
      "Yonkers mid-channel                         51\n",
      "Yonkers STP Outfall                         50\n",
      "Saw Mill River                              49\n",
      "East River mid-channel at 23rd St.          49\n",
      "The Battery mid-channel                     48\n",
      "GW Bridge mid-channel                       48\n",
      "79th St. mid-channel                        48\n",
      "Name: Date, dtype: int64\n"
     ]
    }
   ],
   "source": [
    "# Are we looking for consistancy or frequency in testing??\n",
    "# Note to self - learn more about plotting time series data\n",
    "\n",
    "# Determine the most recent reading for each site (might be useful?)\n",
    "maxDate = raw_data.groupby(by=[\"Site\"])[\"Date\"].max()\n",
    "maxDate.sort_values(ascending=False, inplace=True)\n",
    "\n",
    "# what are our most FREQUENTLY tested Sites?\n",
    "test_Site_counts = raw_data.groupby(by=[\"Site\"])[\"Date\"].count()\n",
    "test_Site_counts.sort_values(ascending=False, inplace=True)\n",
    "\n",
    "# Print out results\n",
    "print \"Most recently tested site dates\"\n",
    "print \"++++++++++++++++++++++++\"\n",
    "print maxDate.head(15)\n",
    "\n",
    "print \"\\n\"\n",
    "\n",
    "print \"Most frequently tested sites\"\n",
    "print \"++++++++++++++++++++++++\"\n",
    "print test_Site_counts.head(15)"
   ]
  },
  {
   "cell_type": "code",
   "execution_count": 94,
   "metadata": {
    "collapsed": false
   },
   "outputs": [
    {
     "data": {
      "text/html": [
       "<div>\n",
       "<table border=\"1\" class=\"dataframe\">\n",
       "  <thead>\n",
       "    <tr style=\"text-align: right;\">\n",
       "      <th></th>\n",
       "      <th>Site</th>\n",
       "      <th>Mean_lag_days</th>\n",
       "    </tr>\n",
       "  </thead>\n",
       "  <tbody>\n",
       "    <tr>\n",
       "      <th>0</th>\n",
       "      <td>125th St. Pier</td>\n",
       "      <td>-8 days +21:45:00</td>\n",
       "    </tr>\n",
       "    <tr>\n",
       "      <th>1</th>\n",
       "      <td>79th St. mid-channel</td>\n",
       "      <td>40 days 06:07:39.574468</td>\n",
       "    </tr>\n",
       "    <tr>\n",
       "      <th>2</th>\n",
       "      <td>Albany Rowing Dock</td>\n",
       "      <td>54 days 15:31:45.882352</td>\n",
       "    </tr>\n",
       "    <tr>\n",
       "      <th>3</th>\n",
       "      <td>Annesville Creek</td>\n",
       "      <td>51 days 08:40:00</td>\n",
       "    </tr>\n",
       "    <tr>\n",
       "      <th>4</th>\n",
       "      <td>Athens</td>\n",
       "      <td>35 days 02:10:54.545454</td>\n",
       "    </tr>\n",
       "  </tbody>\n",
       "</table>\n",
       "</div>"
      ],
      "text/plain": [
       "                   Site           Mean_lag_days\n",
       "0        125th St. Pier       -8 days +21:45:00\n",
       "1  79th St. mid-channel 40 days 06:07:39.574468\n",
       "2    Albany Rowing Dock 54 days 15:31:45.882352\n",
       "3      Annesville Creek        51 days 08:40:00\n",
       "4                Athens 35 days 02:10:54.545454"
      ]
     },
     "execution_count": 94,
     "metadata": {},
     "output_type": "execute_result"
    }
   ],
   "source": [
    "# Consistancy is more important\n",
    "# Figure out how many days elapsed between readings and calculate average by group. \n",
    "# This gives us a general sense of the regularity of testing\n",
    "\n",
    "# After lots of cursing and fiddling!\n",
    "lag_date_data = raw_data.groupby('Site')['Date'].apply(lambda x: x.diff().mean()).reset_index().rename(columns={'Date':'Mean_lag_days'})\n",
    "lag_date_data.head()"
   ]
  },
  {
   "cell_type": "code",
   "execution_count": 96,
   "metadata": {
    "collapsed": true
   },
   "outputs": [],
   "source": [
    "# write it to a csv to make it more flexible\n",
    "lag_date_data.to_csv( 'lag_data.csv' )\n"
   ]
  },
  {
   "cell_type": "code",
   "execution_count": 113,
   "metadata": {
    "collapsed": false
   },
   "outputs": [
    {
     "data": {
      "text/html": [
       "<div>\n",
       "<table border=\"1\" class=\"dataframe\">\n",
       "  <thead>\n",
       "    <tr style=\"text-align: right;\">\n",
       "      <th></th>\n",
       "      <th>Site</th>\n",
       "      <th>mean_lag_days</th>\n",
       "    </tr>\n",
       "  </thead>\n",
       "  <tbody>\n",
       "    <tr>\n",
       "      <th>0</th>\n",
       "      <td>125th St. Pier</td>\n",
       "      <td>8</td>\n",
       "    </tr>\n",
       "    <tr>\n",
       "      <th>1</th>\n",
       "      <td>79th St. mid-channel</td>\n",
       "      <td>40</td>\n",
       "    </tr>\n",
       "    <tr>\n",
       "      <th>2</th>\n",
       "      <td>Albany Rowing Dock</td>\n",
       "      <td>54</td>\n",
       "    </tr>\n",
       "    <tr>\n",
       "      <th>3</th>\n",
       "      <td>Annesville Creek</td>\n",
       "      <td>51</td>\n",
       "    </tr>\n",
       "    <tr>\n",
       "      <th>4</th>\n",
       "      <td>Athens</td>\n",
       "      <td>35</td>\n",
       "    </tr>\n",
       "    <tr>\n",
       "      <th>5</th>\n",
       "      <td>Beacon Harbor</td>\n",
       "      <td>21</td>\n",
       "    </tr>\n",
       "    <tr>\n",
       "      <th>6</th>\n",
       "      <td>Bethlehem Launch Ramp</td>\n",
       "      <td>34</td>\n",
       "    </tr>\n",
       "    <tr>\n",
       "      <th>7</th>\n",
       "      <td>Castle Point, NJ</td>\n",
       "      <td>18</td>\n",
       "    </tr>\n",
       "    <tr>\n",
       "      <th>8</th>\n",
       "      <td>Castleton</td>\n",
       "      <td>14</td>\n",
       "    </tr>\n",
       "    <tr>\n",
       "      <th>9</th>\n",
       "      <td>Catskill Creek- East End</td>\n",
       "      <td>38</td>\n",
       "    </tr>\n",
       "  </tbody>\n",
       "</table>\n",
       "</div>"
      ],
      "text/plain": [
       "                       Site  mean_lag_days\n",
       "0            125th St. Pier              8\n",
       "1      79th St. mid-channel             40\n",
       "2        Albany Rowing Dock             54\n",
       "3          Annesville Creek             51\n",
       "4                    Athens             35\n",
       "5             Beacon Harbor             21\n",
       "6     Bethlehem Launch Ramp             34\n",
       "7          Castle Point, NJ             18\n",
       "8                 Castleton             14\n",
       "9  Catskill Creek- East End             38"
      ]
     },
     "execution_count": 113,
     "metadata": {},
     "output_type": "execute_result"
    }
   ],
   "source": [
    "# Clean up the csv for plotting\n",
    "lag_data = pd.read_csv('lag_data.csv')\n",
    "lag_data.columns = ['index','Site','mean_test_lag']\n",
    "lag_data_num_col = pd.DataFrame(lag_data['mean_test_lag'].str.split().tolist(), columns=['mean_lag_days','junk','more_junk'])\n",
    "mean_lag_data = pd.concat([lag_data, lag_data_num_col], axis=1)\n",
    "del mean_lag_data['index']\n",
    "del mean_lag_data['mean_test_lag']\n",
    "del mean_lag_data['junk']\n",
    "del mean_lag_data['more_junk']\n",
    "# convert mean column to numeric type\n",
    "mean_lag_data[\"mean_lag_days\"] = pd.to_numeric(mean_lag_data[\"mean_lag_days\"]) \n",
    "# apply absolute value to mean column\n",
    "mean_lag_data['mean_lag_days'] = mean_lag_data['mean_lag_days'].abs()\n",
    "mean_lag_data.head(10)"
   ]
  },
  {
   "cell_type": "code",
   "execution_count": 114,
   "metadata": {
    "collapsed": false
   },
   "outputs": [
    {
     "name": "stdout",
     "output_type": "stream",
     "text": [
      "Site             object\n",
      "mean_lag_days     int64\n",
      "dtype: object\n"
     ]
    }
   ],
   "source": [
    "print mean_lag_data.dtypes"
   ]
  },
  {
   "cell_type": "code",
   "execution_count": 123,
   "metadata": {
    "collapsed": false
   },
   "outputs": [
    {
     "data": {
      "image/png": "[encoded data removed]",
      "text/plain": [
       "<matplotlib.figure.Figure at 0x10c74c3d0>"
      ]
     },
     "metadata": {},
     "output_type": "display_data"
    }
   ],
   "source": [
    "# Get a general sense of the spread - on average how often are the sites tested\n",
    "%matplotlib inline\n",
    "plt.figure(figsize=(4.5, 10))\n",
    "sns.violinplot(mean_lag_data, palette=\"colorblind\")\n",
    "sns.despine()\n"
   ]
  },
  {
   "cell_type": "code",
   "execution_count": 162,
   "metadata": {
    "collapsed": false
   },
   "outputs": [
    {
     "data": {
      "image/png": "[encoded data removed]",
      "text/plain": [
       "<matplotlib.figure.Figure at 0x10a94dc10>"
      ]
     },
     "metadata": {},
     "output_type": "display_data"
    }
   ],
   "source": [
    "# Subset random sample of sites to compare and plot\n",
    "# Random subset of 10% of the data\n",
    "sub_lag_data =  mean_lag_data.sample(frac=0.1, replace=True)\n",
    "\n",
    "%matplotlib inline\n",
    "plt.figure(figsize=(10, 8))\n",
    "ax = sns.barplot(x =\"mean_lag_days\", y=\"Site\", data=sub_lag_data, palette=\"Blues_d\")\n",
    "ax.set(xlabel='Mean Lag Time', ylabel='Site')\n",
    "ax.set_title('Mean Lag Time Between Tests in Days')\n",
    "sns.despine()\n",
    "\n",
    "# From the plot we can see there is a huge range in average lag between tests!\n"
   ]
  },
  {
   "cell_type": "markdown",
   "metadata": {
    "collapsed": true
   },
   "source": [
    "### Is there a relationship between the amount of rain and water quality? Show this relationship graphically. If you can, estimate the effect of rain on quality at different sites and create a visualization to compare them."
   ]
  },
  {
   "cell_type": "code",
   "execution_count": 203,
   "metadata": {
    "collapsed": false
   },
   "outputs": [
    {
     "data": {
      "text/html": [
       "<div>\n",
       "<table border=\"1\" class=\"dataframe\">\n",
       "  <thead>\n",
       "    <tr style=\"text-align: right;\">\n",
       "      <th></th>\n",
       "      <th>EnteroCount</th>\n",
       "      <th>FourDayRainTotal</th>\n",
       "    </tr>\n",
       "  </thead>\n",
       "  <tbody>\n",
       "    <tr>\n",
       "      <th>0</th>\n",
       "      <td>1733</td>\n",
       "      <td>1.5</td>\n",
       "    </tr>\n",
       "    <tr>\n",
       "      <th>1</th>\n",
       "      <td>4</td>\n",
       "      <td>0.2</td>\n",
       "    </tr>\n",
       "    <tr>\n",
       "      <th>2</th>\n",
       "      <td>20</td>\n",
       "      <td>0.0</td>\n",
       "    </tr>\n",
       "    <tr>\n",
       "      <th>3</th>\n",
       "      <td>6</td>\n",
       "      <td>0.0</td>\n",
       "    </tr>\n",
       "    <tr>\n",
       "      <th>4</th>\n",
       "      <td>31</td>\n",
       "      <td>0.0</td>\n",
       "    </tr>\n",
       "  </tbody>\n",
       "</table>\n",
       "</div>"
      ],
      "text/plain": [
       "   EnteroCount  FourDayRainTotal\n",
       "0         1733               1.5\n",
       "1            4               0.2\n",
       "2           20               0.0\n",
       "3            6               0.0\n",
       "4           31               0.0"
      ]
     },
     "execution_count": 203,
     "metadata": {},
     "output_type": "execute_result"
    }
   ],
   "source": [
    "# Cleanup so we're using just the entero count and rain totals\n",
    "del raw_data['Site']\n",
    "del raw_data['Date']\n",
    "del raw_data['SampleCount']\n",
    "raw_data.head()"
   ]
  },
  {
   "cell_type": "code",
   "execution_count": 253,
   "metadata": {
    "collapsed": false
   },
   "outputs": [
    {
     "data": {
      "text/plain": [
       "(0, 10.0)"
      ]
     },
     "execution_count": 253,
     "metadata": {},
     "output_type": "execute_result"
    },
    {
     "data": {
      "image/png": "[encoded data removed]",
      "text/plain": [
       "<matplotlib.figure.Figure at 0x129e6a290>"
      ]
     },
     "metadata": {},
     "output_type": "display_data"
    }
   ],
   "source": [
    "%matplotlib inline\n",
    "# Scatterplot to show relationship between rainfall and Entero Count\n",
    "plt.figure(figsize=(7.5, 6.5))\n",
    "sns.regplot('FourDayRainTotal', 'EnteroCount', data=raw_data, fit_reg=False, x_jitter=1)\n",
    "sns.despine()\n",
    "sns.plt.ylim(0)\n",
    "sns.plt.xlim(0)\n",
    "\n",
    "# There seems to be a relatively strong relationship between rainfall and water quality once\n",
    "# you go beyond ~3 inches of rain. At that point there are much fewer high Entero Count readings"
   ]
  },
  {
   "cell_type": "code",
   "execution_count": 227,
   "metadata": {
    "collapsed": false
   },
   "outputs": [
    {
     "data": {
      "text/html": [
       "<div>\n",
       "<table border=\"1\" class=\"dataframe\">\n",
       "  <thead>\n",
       "    <tr style=\"text-align: right;\">\n",
       "      <th></th>\n",
       "      <th>Site</th>\n",
       "      <th>Date</th>\n",
       "      <th>EnteroCount</th>\n",
       "      <th>FourDayRainTotal</th>\n",
       "      <th>SampleCount</th>\n",
       "    </tr>\n",
       "  </thead>\n",
       "  <tbody>\n",
       "    <tr>\n",
       "      <th>0</th>\n",
       "      <td>Hudson above Mohawk River</td>\n",
       "      <td>2011-10-16</td>\n",
       "      <td>1733</td>\n",
       "      <td>1.5</td>\n",
       "      <td>35</td>\n",
       "    </tr>\n",
       "    <tr>\n",
       "      <th>1</th>\n",
       "      <td>Hudson above Mohawk River</td>\n",
       "      <td>2013-10-21</td>\n",
       "      <td>4</td>\n",
       "      <td>0.2</td>\n",
       "      <td>35</td>\n",
       "    </tr>\n",
       "    <tr>\n",
       "      <th>2</th>\n",
       "      <td>Hudson above Mohawk River</td>\n",
       "      <td>2013-09-21</td>\n",
       "      <td>20</td>\n",
       "      <td>0.0</td>\n",
       "      <td>35</td>\n",
       "    </tr>\n",
       "    <tr>\n",
       "      <th>3</th>\n",
       "      <td>Hudson above Mohawk River</td>\n",
       "      <td>2013-08-19</td>\n",
       "      <td>6</td>\n",
       "      <td>0.0</td>\n",
       "      <td>35</td>\n",
       "    </tr>\n",
       "    <tr>\n",
       "      <th>4</th>\n",
       "      <td>Hudson above Mohawk River</td>\n",
       "      <td>2013-07-21</td>\n",
       "      <td>31</td>\n",
       "      <td>0.0</td>\n",
       "      <td>35</td>\n",
       "    </tr>\n",
       "  </tbody>\n",
       "</table>\n",
       "</div>"
      ],
      "text/plain": [
       "                        Site       Date  EnteroCount  FourDayRainTotal  \\\n",
       "0  Hudson above Mohawk River 2011-10-16         1733               1.5   \n",
       "1  Hudson above Mohawk River 2013-10-21            4               0.2   \n",
       "2  Hudson above Mohawk River 2013-09-21           20               0.0   \n",
       "3  Hudson above Mohawk River 2013-08-19            6               0.0   \n",
       "4  Hudson above Mohawk River 2013-07-21           31               0.0   \n",
       "\n",
       "   SampleCount  \n",
       "0           35  \n",
       "1           35  \n",
       "2           35  \n",
       "3           35  \n",
       "4           35  "
      ]
     },
     "execution_count": 227,
     "metadata": {},
     "output_type": "execute_result"
    }
   ],
   "source": [
    "# Compare any two locations with the following\n",
    "\n",
    "# re-read in/clean up\n",
    "data_url = \"https://raw.githubusercontent.com/jlaurito/CUNY_IS608/master/lecture4/data/riverkeeper_data_2013.csv\"\n",
    "site_rain_data = pd.read_csv(data_url)\n",
    "site_rain_data[\"Site\"] = site_rain_data[\"Site\"].astype('category') # like facets\n",
    "site_rain_data[\"Date\"] = pd.to_datetime(site_rain_data[\"Date\"]) # dates as dates\n",
    "site_rain_data[\"EnteroCount\"] = site_rain_data[\"EnteroCount\"].str.lstrip('><')\n",
    "site_rain_data[\"EnteroCount\"] = site_rain_data[\"EnteroCount\"].astype('int64')\n",
    "site_rain_data.head()"
   ]
  },
  {
   "cell_type": "markdown",
   "metadata": {},
   "source": [
    "#### Enter some sites into the search boxes"
   ]
  },
  {
   "cell_type": "code",
   "execution_count": 283,
   "metadata": {
    "collapsed": false
   },
   "outputs": [
    {
     "name": "stdout",
     "output_type": "stream",
     "text": [
      "enter your first site --> Gowanus Canal\n"
     ]
    }
   ],
   "source": [
    "site1 = raw_input('enter your first site --> ') # Gowanus Canal <- worst"
   ]
  },
  {
   "cell_type": "code",
   "execution_count": 284,
   "metadata": {
    "collapsed": false
   },
   "outputs": [
    {
     "name": "stdout",
     "output_type": "stream",
     "text": [
      "enter your second site --> Croton Point Beach\n"
     ]
    }
   ],
   "source": [
    "site2 = raw_input('enter your second site --> ') # Croton Point Beach <- best water"
   ]
  },
  {
   "cell_type": "code",
   "execution_count": 285,
   "metadata": {
    "collapsed": false
   },
   "outputs": [
    {
     "data": {
      "text/html": [
       "<div>\n",
       "<table border=\"1\" class=\"dataframe\">\n",
       "  <thead>\n",
       "    <tr style=\"text-align: right;\">\n",
       "      <th></th>\n",
       "      <th>Site</th>\n",
       "      <th>EnteroCount</th>\n",
       "      <th>FourDayRainTotal</th>\n",
       "    </tr>\n",
       "  </thead>\n",
       "  <tbody>\n",
       "    <tr>\n",
       "      <th>3360</th>\n",
       "      <td>Gowanus Canal</td>\n",
       "      <td>10</td>\n",
       "      <td>0</td>\n",
       "    </tr>\n",
       "    <tr>\n",
       "      <th>3361</th>\n",
       "      <td>Gowanus Canal</td>\n",
       "      <td>63</td>\n",
       "      <td>0</td>\n",
       "    </tr>\n",
       "    <tr>\n",
       "      <th>3362</th>\n",
       "      <td>Gowanus Canal</td>\n",
       "      <td>41</td>\n",
       "      <td>0</td>\n",
       "    </tr>\n",
       "    <tr>\n",
       "      <th>3363</th>\n",
       "      <td>Gowanus Canal</td>\n",
       "      <td>364</td>\n",
       "      <td>1</td>\n",
       "    </tr>\n",
       "    <tr>\n",
       "      <th>3364</th>\n",
       "      <td>Gowanus Canal</td>\n",
       "      <td>10</td>\n",
       "      <td>0</td>\n",
       "    </tr>\n",
       "  </tbody>\n",
       "</table>\n",
       "</div>"
      ],
      "text/plain": [
       "               Site  EnteroCount  FourDayRainTotal\n",
       "3360  Gowanus Canal           10                 0\n",
       "3361  Gowanus Canal           63                 0\n",
       "3362  Gowanus Canal           41                 0\n",
       "3363  Gowanus Canal          364                 1\n",
       "3364  Gowanus Canal           10                 0"
      ]
     },
     "execution_count": 285,
     "metadata": {},
     "output_type": "execute_result"
    }
   ],
   "source": [
    "# Gowanus is dirtiest, Croton Point Beach is cleanest\n",
    "x = site_rain_data.loc[site_rain_data['Site'] == site1]\n",
    "y = site_rain_data.loc[site_rain_data['Site'] == site2]\n",
    "frames = [x, y]\n",
    "result = pd.concat(frames)\n",
    "del result['Date']\n",
    "del result['SampleCount']\n",
    "result.head()"
   ]
  },
  {
   "cell_type": "code",
   "execution_count": 287,
   "metadata": {
    "collapsed": false
   },
   "outputs": [
    {
     "data": {
      "text/plain": [
       "(0, 10.0)"
      ]
     },
     "execution_count": 287,
     "metadata": {},
     "output_type": "execute_result"
    },
    {
     "data": {
      "text/plain": [
       "<matplotlib.figure.Figure at 0x117aa7c10>"
      ]
     },
     "metadata": {},
     "output_type": "display_data"
    },
    {
     "data": {
      "image/png": "[encoded data removed]",
      "text/plain": [
       "<matplotlib.figure.Figure at 0x10f014090>"
      ]
     },
     "metadata": {},
     "output_type": "display_data"
    }
   ],
   "source": [
    "plt.figure(figsize=(10, 10))\n",
    "sns.lmplot('FourDayRainTotal', 'EnteroCount', data=result, hue='Site', palette=\"Set2\", fit_reg=False, scatter_kws={\"s\": 50}, legend=False)\n",
    "plt.legend(loc='upper right')\n",
    "sns.despine()\n",
    "sns.plt.ylim(0)\n",
    "sns.plt.xlim(0)"
   ]
  }
 ],
 "metadata": {
  "kernelspec": {
   "display_name": "Python 2",
   "language": "python",
   "name": "python2"
  },
  "language_info": {
   "codemirror_mode": {
    "name": "ipython",
    "version": 2
   },
   "file_extension": ".py",
   "mimetype": "text/x-python",
   "name": "python",
   "nbconvert_exporter": "python",
   "pygments_lexer": "ipython2",
   "version": "2.7.11"
  }
 },
 "nbformat": 4,
 "nbformat_minor": 0
}
